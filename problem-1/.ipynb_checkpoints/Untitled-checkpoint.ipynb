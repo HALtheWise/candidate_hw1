{
 "cells": [
  {
   "cell_type": "code",
   "execution_count": 1,
   "metadata": {},
   "outputs": [],
   "source": [
    "%matplotlib inline\n",
    "\n",
    "import numpy as np\n",
    "import matplotlib.pyplot as plt\n",
    "\n",
    "from mpl_toolkits import mplot3d\n",
    "\n",
    "# Using library numpy-stl to handle STL files (https://pypi.python.org/pypi/numpy-stl)\n",
    "from stl import mesh"
   ]
  },
  {
   "cell_type": "markdown",
   "metadata": {},
   "source": [
    "# Observations\n",
    "\n",
    "This problem sounds easy at first glance, but a number of edge cases make it tricky.\n",
    "1. The \"house\" shape, which should need no support at all because the sloped roof holds up the top edge.\n",
    "2. Anything touching the build plate, which doesn't need support.\n",
    "3. A Cube, where the top edges don't need support, but the top face does.\n",
    "4. A stalagtite, where the tip vertex needs support, but none of the edges or faces do."
   ]
  },
  {
   "cell_type": "markdown",
   "metadata": {},
   "source": [
    "# Plan"
   ]
  },
  {
   "cell_type": "markdown",
   "metadata": {},
   "source": [
    "The basic approach I want to take is to determine whether a face/edge/vertex needs support purely by looking at the local properties of that feature and the things around it. We'll see if that works.\n",
    "\n",
    "An alternative approach would be to build a directed graph indicating what things hold each other up, and reason about which edges need to be added to make it have a root."
   ]
  },
  {
   "cell_type": "markdown",
   "metadata": {},
   "source": [
    "An STL file contains information about faces, edges, and vertices.\n",
    "## Faces\n",
    "A face needs support when its is \"flat\" i.e. its normal vectors is close to the gravity vector. A cross product to get the normal vector, followed by a dot product with the gravity vector, makes computing that really easy.\n",
    "\n",
    "Precomputation of $cos(\\theta)$ should make the whole computation quite cheap.\n",
    "\n",
    "## Edges\n",
    "In addition to edges surrounding faces needing support, some edges themselves need to be supported, even if both of their neighboring faces are fine. An example is a horizontal edge connecting two faces in a \"V\" configuration. Notice that this edge requires support, while the inverse case (a peak) doesn't.\n",
    "\n",
    "In this case, we are looking for an edge that is mostly horizontal (dot product again), and where neither (none) of its neighboring faces is sufficiently below it to support it (using their normals). Depending on what's next in the pipeline, it may or may not matter whether an edge adjacent to a supported face is supported or not.\n",
    "\n",
    "This assumes that your FDM machine cannot perform bridging operations.\n",
    "\n",
    "## Vertices\n",
    "\n",
    "In addition to the cases above, a vertex needs support if none of its neighboring vertices are sufficiently below it. (i.e. tip of a [stalagtite](http://media.gettyimages.com/photos/stalactites-and-stalagmites-in-jenolan-caves-picture-id595906719?s=612x612) )"
   ]
  },
  {
   "cell_type": "markdown",
   "metadata": {},
   "source": [
    "# Implementation"
   ]
  },
  {
   "cell_type": "code",
   "execution_count": 14,
   "metadata": {},
   "outputs": [
    {
     "name": "stdout",
     "output_type": "stream",
     "text": [
      "[0, 0, 1] True\n",
      "[0, 1, 2] True\n",
      "[0, 2, 1] False\n",
      "[0, -1, -3] True\n",
      "[0, 4, 0] False\n"
     ]
    }
   ],
   "source": [
    "down = np.array([0, 0, 1])\n",
    "theta = np.deg2rad(45)\n",
    "\n",
    "epsilon = 0.000001 # A very small number, to deal with floating point rounding.\n",
    "\n",
    "def isMostlyUp(vec):\n",
    "    \"\"\"\n",
    "    Returns true if the provided 3-vector is pointning within theta of up\n",
    "    \"\"\"\n",
    "    cosangle = np.dot(vec, down) / (np.linalg.norm(down) * np.linalg.norm(vec))\n",
    "    costheta = np.cos(theta)\n",
    "    \n",
    "    return cosangle >= costheta\n",
    "\n",
    "def isMostlyVertical(vec):\n",
    "    \"\"\"\n",
    "    Returns true if the provided 3-vector is pointning within theta of up or down\n",
    "    \"\"\"\n",
    "    cosangle = np.dot(vec, down) / (np.linalg.norm(down) * np.linalg.norm(vec))\n",
    "    costheta = np.cos(theta)\n",
    "    \n",
    "    return cosangle >= costheta or cosangle <= -costheta\n",
    "\n",
    "tests = [[0,0,1],\n",
    "        [0,1,2],\n",
    "        [0,2,1],\n",
    "        [0,-1,-3],\n",
    "        [0,4,0],\n",
    "        ]\n",
    "\n",
    "for t in tests:\n",
    "    print t, isMostlyVertical(t)"
   ]
  },
  {
   "cell_type": "code",
   "execution_count": 21,
   "metadata": {},
   "outputs": [],
   "source": [
    "def almostEqual(v1, v2):\n",
    "    \"\"\"\n",
    "    Checks whether two values (numbers, vectors, or arrays) are equal within epsilon.\n",
    "    \"\"\"\n",
    "    return np.max(np.abs(v2 - v1)) <= epsilon"
   ]
  },
  {
   "cell_type": "code",
   "execution_count": 22,
   "metadata": {},
   "outputs": [],
   "source": [
    "def isOnBuildPlate(point):\n",
    "    # The build plate is assumed to be a infinite plane perpendicular \n",
    "    # to gravity, passing through the point (0, 0, 0)\n",
    "    return almostEqual(np.dot(point, down), 0)"
   ]
  },
  {
   "cell_type": "code",
   "execution_count": 17,
   "metadata": {},
   "outputs": [],
   "source": [
    "def faceNeedsSupport(face):\n",
    "    \"\"\"\n",
    "    face is a list of three vertices\n",
    "    \"\"\"\n",
    "    p1, p2, p3 = face\n",
    "    normal = np.cross(p2-p1, p3-p1)\n",
    "    \n",
    "    if not isMostlyVertical(normal):\n",
    "        # The face itself is vertical\n",
    "        return False\n",
    "    else:\n",
    "        # The face is horizontal\n",
    "        for p in face:\n",
    "            if not isOnBuildPlate(p):\n",
    "                # At least one vertex is not on the build plate\n",
    "                return True\n",
    "        # All vertices on build plate\n",
    "        return False"
   ]
  },
  {
   "cell_type": "code",
   "execution_count": 28,
   "metadata": {},
   "outputs": [],
   "source": [
    "def edgeNeedsSupport(endpoints, faces):\n",
    "    \"\"\"endpoints is list of two points, \n",
    "    faces is a list of arbitrarily many neighboring faces, given as triples of points\"\"\"\n",
    "    \n",
    "    p1, p2 = endpoints\n",
    "    \n",
    "    if isMostlyVertical(p2-p1):\n",
    "        # Vertical edges are supported by their endpoint\n",
    "        return False\n",
    "    \n",
    "    if isOnBuildPlate(p1) and isOnBuildPlate(p2):\n",
    "        # This edge is supported by the build plate\n",
    "        return False        \n",
    "    \n",
    "    # Check for a face that supports this edge\n",
    "    for face in faces:\n",
    "        # We need to check whether the face is \"below\" the edge.\n",
    "        # Note that this can happen even if the third point on the edge is above \n",
    "        # both of the points on the edge.\n",
    "        \n",
    "        otherPoints = [p for p in face if (not almostEqual(p, p1) and not almostEqual(p, p2))]\n",
    "        if len(otherPoints) != 1:\n",
    "            raise Exception('Face provided not containing given edge')\n",
    "            \n",
    "        p3 = otherPoints[0]\n",
    "        \n",
    "        # The easiest way to check this is to which side of this edge the face is on\n",
    "        # is to compute the cross product of this edge's vector with the vector to the third point,\n",
    "        # as well as the cross product of this edge's vector and gravity. If those vectors are within \n",
    "        # +-90 degrees of each other, the face is below the edge.\n",
    "        \n",
    "        faceNormal = np.cross((p2-p1), (p3-p1))\n",
    "        gravityNormal = np.cross((p2-p1), down)\n",
    "        \n",
    "#         faceNormal /= np.linalg.norm(faceNormal)\n",
    "#         gravityNormal /= np.linalg.norm(gravityNormal)\n",
    "        \n",
    "        if np.dot(faceNormal, gravityNormal) > 0:\n",
    "            # The face is \"below\" this edge\n",
    "            if not faceNeedsSupport(face):\n",
    "                # The face can support this edge\n",
    "                return False\n",
    "            \n",
    "            \n",
    "    return True\n",
    "    "
   ]
  },
  {
   "cell_type": "code",
   "execution_count": 29,
   "metadata": {},
   "outputs": [],
   "source": [
    "def vertexNeedsSupport(point, edges):\n",
    "    \"\"\"\n",
    "    Takes as input:\n",
    "        - A point Vector3\n",
    "        - A list of edges connected to this point, given as pairs of points\n",
    "    \"\"\"\n",
    "    \n",
    "    if isOnBuildPlate(point):\n",
    "        return False\n",
    "    \n",
    "    for edge in edges:\n",
    "        otherPoints = [p for p in edge if not almostEqual(p, point)]\n",
    "        if len(otherPoints) != 1:\n",
    "            raise Exception('Edge provided not containing given vertex')\n",
    "        other = otherPoints[0]\n",
    "        \n",
    "        # Check whether this point is mostly above the current edge\n",
    "        if isMostlyUp(point - other):\n",
    "            # This vertex is at the top of the provided edge, and so supported.\n",
    "            return False\n",
    "        \n",
    "    return True\n"
   ]
  },
  {
   "cell_type": "markdown",
   "metadata": {},
   "source": [
    "## STL library examples (reference)"
   ]
  },
  {
   "cell_type": "code",
   "execution_count": null,
   "metadata": {},
   "outputs": [],
   "source": [
    "# Create a new plot\n",
    "figure = plt.figure()\n",
    "axes = mplot3d.Axes3D(figure)\n",
    "\n",
    "# Load the STL files and add the vectors to the plot\n",
    "your_mesh = mesh.Mesh.from_file('tests/cube.stl')\n",
    "axes.add_collection3d(mplot3d.art3d.Poly3DCollection(your_mesh.vectors))\n",
    "\n",
    "# Auto scale to the mesh size\n",
    "scale = your_mesh.points.flatten(-1)\n",
    "axes.auto_scale_xyz(scale, scale, scale)\n"
   ]
  },
  {
   "cell_type": "code",
   "execution_count": null,
   "metadata": {},
   "outputs": [],
   "source": [
    "your_mesh.vectors"
   ]
  }
 ],
 "metadata": {
  "kernelspec": {
   "display_name": "Python 2",
   "language": "python",
   "name": "python2"
  },
  "language_info": {
   "codemirror_mode": {
    "name": "ipython",
    "version": 2
   },
   "file_extension": ".py",
   "mimetype": "text/x-python",
   "name": "python",
   "nbconvert_exporter": "python",
   "pygments_lexer": "ipython2",
   "version": "2.7.12"
  }
 },
 "nbformat": 4,
 "nbformat_minor": 2
}
