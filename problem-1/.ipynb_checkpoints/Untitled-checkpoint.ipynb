{
 "cells": [
  {
   "cell_type": "code",
   "execution_count": 1,
   "metadata": {},
   "outputs": [],
   "source": [
    "%matplotlib inline\n",
    "\n",
    "import numpy as np\n",
    "import matplotlib.pyplot as plt\n",
    "\n",
    "from mpl_toolkits import mplot3d\n",
    "\n",
    "# Using library numpy-stl to handle STL files (https://pypi.python.org/pypi/numpy-stl)\n",
    "from stl import mesh"
   ]
  },
  {
   "cell_type": "markdown",
   "metadata": {},
   "source": [
    "# Observations\n",
    "\n",
    "This problem sounds easy at first glance, but a number of edge cases make it tricky.\n",
    "1. The \"house\" shape, which should need no support at all because the sloped roof holds up the top edge.\n",
    "2. Anything touching the build plate, which doesn't need support.\n",
    "3. A Cube, where the top edges don't need support, but the top face does.\n",
    "4. A stalagtite, where the tip vertex needs support, but none of the edges or faces do."
   ]
  },
  {
   "cell_type": "markdown",
   "metadata": {},
   "source": [
    "# Plan"
   ]
  },
  {
   "cell_type": "markdown",
   "metadata": {},
   "source": [
    "The basic approach I want to take is to determine whether a face/edge/vertex needs support purely by looking at the local properties of that feature and the things around it. We'll see if that works.\n",
    "\n",
    "An alternative approach would be to build a directed graph indicating what things hold each other up, and reason about which edges need to be added to make it have a root."
   ]
  },
  {
   "cell_type": "markdown",
   "metadata": {},
   "source": [
    "An STL file contains information about faces, edges, and vertices.\n",
    "## Faces\n",
    "A face needs support when its is \"flat\" i.e. its normal vectors is close to the gravity vector. A cross product to get the normal vector, followed by a dot product with the gravity vector, makes computing that really easy.\n",
    "\n",
    "Precomputation of $cos(\\theta)$ should make the whole computation quite cheap.\n",
    "\n",
    "## Edges\n",
    "In addition to edges surrounding faces needing support, some edges themselves need to be supported, even if both of their neighboring faces are fine. An example is a horizontal edge connecting two faces in a \"V\" configuration. Notice that this edge requires support, while the inverse case (a peak) doesn't.\n",
    "\n",
    "In this case, we are looking for an edge that is mostly horizontal (dot product again), and where neither (none) of its neighboring faces is sufficiently below it to support it (using their normals). Depending on what's next in the pipeline, it may or may not matter whether an edge adjacent to a supported face is supported or not.\n",
    "\n",
    "This assumes that your FDM machine cannot perform bridging operations.\n",
    "\n",
    "## Vertices\n",
    "\n",
    "In addition to the cases above, a vertex needs support if none of its neighboring vertices are sufficiently below it. (i.e. tip of a [stalagtite](http://media.gettyimages.com/photos/stalactites-and-stalagmites-in-jenolan-caves-picture-id595906719?s=612x612) )"
   ]
  },
  {
   "cell_type": "markdown",
   "metadata": {},
   "source": [
    "# Implementation"
   ]
  },
  {
   "cell_type": "code",
   "execution_count": 5,
   "metadata": {},
   "outputs": [
    {
     "name": "stdout",
     "output_type": "stream",
     "text": [
      "[0, 0, 1] True\n",
      "[0, 1, 2] True\n",
      "[0, 2, 1] False\n",
      "[0, -1, -3] True\n",
      "[0, 4, 0] False\n"
     ]
    }
   ],
   "source": [
    "down = np.array([0, 0, 1])\n",
    "theta = np.deg2rad(45)\n",
    "\n",
    "layer_height = 0.0001\n",
    "\n",
    "def isMostlyUp(vec):\n",
    "    \"\"\"\n",
    "    Returns true if the provided 3-vector is pointning within theta of up\n",
    "    \"\"\"\n",
    "    cosangle = np.dot(vec, down) / (np.linalg.norm(down) * np.linalg.norm(vec))\n",
    "    costheta = np.cos(theta)\n",
    "    \n",
    "    return cosangle >= costheta\n",
    "\n",
    "def isMostlyVertical(vec):\n",
    "    \"\"\"\n",
    "    Returns true if the provided 3-vector is pointning within theta of up or down\n",
    "    \"\"\"\n",
    "    cosangle = np.dot(vec, down) / (np.linalg.norm(down) * np.linalg.norm(vec))\n",
    "    costheta = np.cos(theta)\n",
    "    \n",
    "    return cosangle >= costheta or cosangle <= -costheta\n",
    "\n",
    "tests = [[0,0,1],\n",
    "        [0,1,2],\n",
    "        [0,2,1],\n",
    "        [0,-1,-3],\n",
    "        [0,4,0],\n",
    "        ]\n",
    "\n",
    "for t in tests:\n",
    "    print t, isMostlyVertical(t)"
   ]
  },
  {
   "cell_type": "code",
   "execution_count": 6,
   "metadata": {},
   "outputs": [],
   "source": [
    "def isOnBuildPlate(point):\n",
    "    return np.abs(np.dot(point, down)) < layer_height"
   ]
  },
  {
   "cell_type": "code",
   "execution_count": 7,
   "metadata": {},
   "outputs": [],
   "source": [
    "def faceNeedsSupport(face):\n",
    "    \"\"\"\n",
    "    face is a list of three vertices\n",
    "    \"\"\"\n",
    "    p1, p2, p3 = face\n",
    "    normal = np.cross(p2-p1, p3-p1)\n",
    "    \n",
    "    if not isMostlyVertical(normal):\n",
    "        # The face itself is vertical\n",
    "        return False\n",
    "    else:\n",
    "        # The face is horizontal\n",
    "        for p in face:\n",
    "            if not isOnBuildPlate(p):\n",
    "                # At least one vertex is not on the build plate\n",
    "                return True\n",
    "        # All vertices on build plate\n",
    "        return False"
   ]
  },
  {
   "cell_type": "code",
   "execution_count": 8,
   "metadata": {},
   "outputs": [],
   "source": [
    "def edgeNeedsSupport(endpoints, faces):\n",
    "    \"\"\"endpoints is list of two points, \n",
    "    faces is a list of arbitrarily many neighboring faces\"\"\"\n",
    "    if isMostlyVertical(endpoints[1]-endpoints[0]):\n",
    "        return False\n",
    "    \n",
    "    # Check for a face that supports this edge\n",
    "    for face in faces:\n",
    "        pass\n",
    "    "
   ]
  },
  {
   "cell_type": "markdown",
   "metadata": {},
   "source": [
    "## STL library examples (reference)"
   ]
  },
  {
   "cell_type": "code",
   "execution_count": null,
   "metadata": {},
   "outputs": [],
   "source": [
    "# Create a new plot\n",
    "figure = plt.figure()\n",
    "axes = mplot3d.Axes3D(figure)\n",
    "\n",
    "# Load the STL files and add the vectors to the plot\n",
    "your_mesh = mesh.Mesh.from_file('tests/cube.stl')\n",
    "axes.add_collection3d(mplot3d.art3d.Poly3DCollection(your_mesh.vectors))\n",
    "\n",
    "# Auto scale to the mesh size\n",
    "scale = your_mesh.points.flatten(-1)\n",
    "axes.auto_scale_xyz(scale, scale, scale)\n"
   ]
  },
  {
   "cell_type": "code",
   "execution_count": null,
   "metadata": {},
   "outputs": [],
   "source": [
    "your_mesh.vectors"
   ]
  }
 ],
 "metadata": {
  "kernelspec": {
   "display_name": "Python 2",
   "language": "python",
   "name": "python2"
  },
  "language_info": {
   "codemirror_mode": {
    "name": "ipython",
    "version": 2
   },
   "file_extension": ".py",
   "mimetype": "text/x-python",
   "name": "python",
   "nbconvert_exporter": "python",
   "pygments_lexer": "ipython2",
   "version": "2.7.12"
  }
 },
 "nbformat": 4,
 "nbformat_minor": 2
}
